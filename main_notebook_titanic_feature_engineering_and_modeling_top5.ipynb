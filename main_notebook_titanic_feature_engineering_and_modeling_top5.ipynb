{
 "cells": [
  {
   "cell_type": "markdown",
   "metadata": {},
   "source": [
    "# Importing"
   ]
  },
  {
   "cell_type": "code",
   "execution_count": 1,
   "metadata": {},
   "outputs": [
    {
     "data": {
      "application/javascript": [
       "IPython.notebook.set_autosave_interval(60000)"
      ]
     },
     "metadata": {},
     "output_type": "display_data"
    },
    {
     "name": "stdout",
     "output_type": "stream",
     "text": [
      "Autosaving every 60 seconds\n"
     ]
    }
   ],
   "source": [
    "import pandas as pd\n",
    "import numpy as np\n",
    "from IPython.display import display, Image, Javascript\n",
    "from scipy.stats import scoreatpercentile, percentileofscore\n",
    "import sys\n",
    "import seaborn as sns\n",
    "import matplotlib.pyplot as plt\n",
    "%autosave 60\n",
    "%matplotlib inline\n",
    "\n",
    "pd.set_option('display.max_columns', 500)\n",
    "pd.set_option('display.max_rows', 20)\n",
    "plt.rcParams['figure.figsize'] = [10, 5]"
   ]
  },
  {
   "cell_type": "code",
   "execution_count": 2,
   "metadata": {},
   "outputs": [],
   "source": [
    "from sklearn.model_selection import train_test_split\n",
    "from sklearn.ensemble import RandomForestClassifier, RandomForestRegressor\n",
    "from sklearn.metrics import precision_score, recall_score, roc_auc_score, roc_curve, accuracy_score\n",
    "from sklearn.metrics import confusion_matrix\n",
    "from sklearn.inspection import permutation_importance"
   ]
  },
  {
   "cell_type": "code",
   "execution_count": 3,
   "metadata": {},
   "outputs": [],
   "source": [
    "# MYUTILS_PATH = '/Users/amits/Projects/_MyUtils'\n",
    "# if MYUTILS_PATH not in sys.path:\n",
    "#     sys.path.append(MYUTILS_PATH)\n",
    "# from pd_helpers import describe_field\n",
    "# import functools\n",
    "# report = functools.partial(describe_field, plot=True)\n"
   ]
  },
  {
   "cell_type": "markdown",
   "metadata": {},
   "source": [
    "# Pre-task"
   ]
  },
  {
   "cell_type": "markdown",
   "metadata": {},
   "source": [
    "### finding the score to beat"
   ]
  },
  {
   "cell_type": "markdown",
   "metadata": {},
   "source": [
    "Get all submissions, give each team the maximal submission score. \n",
    "Remove scores smaller than the gender submission. \n",
    "Remove socres of 1.00 since those are cheats. \n",
    "Take the 90th percentile. "
   ]
  },
  {
   "cell_type": "code",
   "execution_count": 4,
   "metadata": {},
   "outputs": [
    {
     "name": "stdout",
     "output_type": "stream",
     "text": [
      "The score to beat is:  0.79904 \n",
      "------------------------------\n"
     ]
    },
    {
     "data": {
      "image/png": "[encoded data removed]",
      "text/plain": [
       "<Figure size 720x360 with 1 Axes>"
      ]
     },
     "metadata": {
      "needs_background": "light"
     },
     "output_type": "display_data"
    }
   ],
   "source": [
    "submissions = pd.read_csv('titanic-publicleaderboard.csv')\n",
    "sub_max_scores = submissions.groupby('TeamId')['Score'].agg('max')\n",
    "sub_max_scores = sub_max_scores[(sub_max_scores>0.4) & (sub_max_scores<1)]\n",
    "\n",
    "score_to_beat = scoreatpercentile(sub_max_scores, 90)\n",
    "print('The score to beat is: ', score_to_beat, '\\n' + '-'*30)\n",
    "sns.distplot(sub_max_scores);"
   ]
  },
  {
   "cell_type": "markdown",
   "metadata": {},
   "source": [
    "# Loading the data"
   ]
  },
  {
   "cell_type": "code",
   "execution_count": 5,
   "metadata": {},
   "outputs": [],
   "source": [
    "train = pd.read_csv('train.csv')\n",
    "test = pd.read_csv('test.csv')\n",
    "CLASS_LABEL = 'Survived'\n",
    "data = pd.concat([train, test], axis=0).reset_index(drop=True)\n",
    "data_p = data.copy()"
   ]
  },
  {
   "cell_type": "code",
   "execution_count": 6,
   "metadata": {},
   "outputs": [
    {
     "data": {
      "text/html": [
       "<div>\n",
       "<style scoped>\n",
       "    .dataframe tbody tr th:only-of-type {\n",
       "        vertical-align: middle;\n",
       "    }\n",
       "\n",
       "    .dataframe tbody tr th {\n",
       "        vertical-align: top;\n",
       "    }\n",
       "\n",
       "    .dataframe thead th {\n",
       "        text-align: right;\n",
       "    }\n",
       "</style>\n",
       "<table border=\"1\" class=\"dataframe\">\n",
       "  <thead>\n",
       "    <tr style=\"text-align: right;\">\n",
       "      <th></th>\n",
       "      <th>PassengerId</th>\n",
       "      <th>Survived</th>\n",
       "      <th>Pclass</th>\n",
       "      <th>Name</th>\n",
       "      <th>Sex</th>\n",
       "      <th>Age</th>\n",
       "      <th>SibSp</th>\n",
       "      <th>Parch</th>\n",
       "      <th>Ticket</th>\n",
       "      <th>Fare</th>\n",
       "      <th>Cabin</th>\n",
       "      <th>Embarked</th>\n",
       "    </tr>\n",
       "  </thead>\n",
       "  <tbody>\n",
       "    <tr>\n",
       "      <th>0</th>\n",
       "      <td>1</td>\n",
       "      <td>0.0</td>\n",
       "      <td>3</td>\n",
       "      <td>Braund, Mr. Owen Harris</td>\n",
       "      <td>male</td>\n",
       "      <td>22.0</td>\n",
       "      <td>1</td>\n",
       "      <td>0</td>\n",
       "      <td>A/5 21171</td>\n",
       "      <td>7.2500</td>\n",
       "      <td>NaN</td>\n",
       "      <td>S</td>\n",
       "    </tr>\n",
       "    <tr>\n",
       "      <th>1</th>\n",
       "      <td>2</td>\n",
       "      <td>1.0</td>\n",
       "      <td>1</td>\n",
       "      <td>Cumings, Mrs. John Bradley (Florence Briggs Th...</td>\n",
       "      <td>female</td>\n",
       "      <td>38.0</td>\n",
       "      <td>1</td>\n",
       "      <td>0</td>\n",
       "      <td>PC 17599</td>\n",
       "      <td>71.2833</td>\n",
       "      <td>C85</td>\n",
       "      <td>C</td>\n",
       "    </tr>\n",
       "    <tr>\n",
       "      <th>2</th>\n",
       "      <td>3</td>\n",
       "      <td>1.0</td>\n",
       "      <td>3</td>\n",
       "      <td>Heikkinen, Miss. Laina</td>\n",
       "      <td>female</td>\n",
       "      <td>26.0</td>\n",
       "      <td>0</td>\n",
       "      <td>0</td>\n",
       "      <td>STON/O2. 3101282</td>\n",
       "      <td>7.9250</td>\n",
       "      <td>NaN</td>\n",
       "      <td>S</td>\n",
       "    </tr>\n",
       "    <tr>\n",
       "      <th>3</th>\n",
       "      <td>4</td>\n",
       "      <td>1.0</td>\n",
       "      <td>1</td>\n",
       "      <td>Futrelle, Mrs. Jacques Heath (Lily May Peel)</td>\n",
       "      <td>female</td>\n",
       "      <td>35.0</td>\n",
       "      <td>1</td>\n",
       "      <td>0</td>\n",
       "      <td>113803</td>\n",
       "      <td>53.1000</td>\n",
       "      <td>C123</td>\n",
       "      <td>S</td>\n",
       "    </tr>\n",
       "    <tr>\n",
       "      <th>4</th>\n",
       "      <td>5</td>\n",
       "      <td>0.0</td>\n",
       "      <td>3</td>\n",
       "      <td>Allen, Mr. William Henry</td>\n",
       "      <td>male</td>\n",
       "      <td>35.0</td>\n",
       "      <td>0</td>\n",
       "      <td>0</td>\n",
       "      <td>373450</td>\n",
       "      <td>8.0500</td>\n",
       "      <td>NaN</td>\n",
       "      <td>S</td>\n",
       "    </tr>\n",
       "  </tbody>\n",
       "</table>\n",
       "</div>"
      ],
      "text/plain": [
       "   PassengerId  Survived  Pclass  \\\n",
       "0            1       0.0       3   \n",
       "1            2       1.0       1   \n",
       "2            3       1.0       3   \n",
       "3            4       1.0       1   \n",
       "4            5       0.0       3   \n",
       "\n",
       "                                                Name     Sex   Age  SibSp  \\\n",
       "0                            Braund, Mr. Owen Harris    male  22.0      1   \n",
       "1  Cumings, Mrs. John Bradley (Florence Briggs Th...  female  38.0      1   \n",
       "2                             Heikkinen, Miss. Laina  female  26.0      0   \n",
       "3       Futrelle, Mrs. Jacques Heath (Lily May Peel)  female  35.0      1   \n",
       "4                           Allen, Mr. William Henry    male  35.0      0   \n",
       "\n",
       "   Parch            Ticket     Fare Cabin Embarked  \n",
       "0      0         A/5 21171   7.2500   NaN        S  \n",
       "1      0          PC 17599  71.2833   C85        C  \n",
       "2      0  STON/O2. 3101282   7.9250   NaN        S  \n",
       "3      0            113803  53.1000  C123        S  \n",
       "4      0            373450   8.0500   NaN        S  "
      ]
     },
     "execution_count": 6,
     "metadata": {},
     "output_type": "execute_result"
    }
   ],
   "source": [
    "data_p.head()"
   ]
  },
  {
   "cell_type": "markdown",
   "metadata": {},
   "source": [
    "### Find missing values"
   ]
  },
  {
   "cell_type": "code",
   "execution_count": 7,
   "metadata": {},
   "outputs": [
    {
     "data": {
      "text/html": [
       "<div>\n",
       "<style scoped>\n",
       "    .dataframe tbody tr th:only-of-type {\n",
       "        vertical-align: middle;\n",
       "    }\n",
       "\n",
       "    .dataframe tbody tr th {\n",
       "        vertical-align: top;\n",
       "    }\n",
       "\n",
       "    .dataframe thead th {\n",
       "        text-align: right;\n",
       "    }\n",
       "</style>\n",
       "<table border=\"1\" class=\"dataframe\">\n",
       "  <thead>\n",
       "    <tr style=\"text-align: right;\">\n",
       "      <th></th>\n",
       "      <th>Cabin</th>\n",
       "      <th>Survived</th>\n",
       "      <th>Age</th>\n",
       "      <th>Embarked</th>\n",
       "      <th>Fare</th>\n",
       "    </tr>\n",
       "  </thead>\n",
       "  <tbody>\n",
       "    <tr>\n",
       "      <th>NaN %</th>\n",
       "      <td>77.463713</td>\n",
       "      <td>31.932773</td>\n",
       "      <td>20.091673</td>\n",
       "      <td>0.152788</td>\n",
       "      <td>0.076394</td>\n",
       "    </tr>\n",
       "  </tbody>\n",
       "</table>\n",
       "</div>"
      ],
      "text/plain": [
       "           Cabin   Survived        Age  Embarked      Fare\n",
       "NaN %  77.463713  31.932773  20.091673  0.152788  0.076394"
      ]
     },
     "execution_count": 7,
     "metadata": {},
     "output_type": "execute_result"
    }
   ],
   "source": [
    "(data_p.isna().sum().sort_values(ascending=False).replace(0, np.nan).dropna() / data_p.shape[0] * 100).to_frame('NaN %').T"
   ]
  },
  {
   "cell_type": "markdown",
   "metadata": {},
   "source": [
    "# EDA - A"
   ]
  },
  {
   "cell_type": "code",
   "execution_count": 8,
   "metadata": {},
   "outputs": [
    {
     "name": "stdout",
     "output_type": "stream",
     "text": [
      "PassengerId\n",
      "Survived\n",
      "Pclass\n",
      "Name\n",
      "Sex\n",
      "Age\n",
      "SibSp\n",
      "Parch\n",
      "Ticket\n",
      "Fare\n",
      "Cabin\n",
      "Embarked\n"
     ]
    }
   ],
   "source": [
    "print(*train.columns, sep='\\n')"
   ]
  },
  {
   "cell_type": "markdown",
   "metadata": {},
   "source": [
    "define dummy columns to be converted to numerical later on"
   ]
  },
  {
   "cell_type": "code",
   "execution_count": 9,
   "metadata": {},
   "outputs": [],
   "source": [
    "dummy_columns = []\n",
    "dummy_columns.append('Pclass')"
   ]
  },
  {
   "cell_type": "markdown",
   "metadata": {},
   "source": [
    "# Column by column extraction"
   ]
  },
  {
   "cell_type": "markdown",
   "metadata": {},
   "source": [
    "We go column by column and extract the features we can."
   ]
  },
  {
   "cell_type": "markdown",
   "metadata": {},
   "source": [
    "### Name column:\n",
    "#### Extract the <ins>title</ins>, <ins>nickname</ins> and <ins>name inside parenthesis</ins>."
   ]
  },
  {
   "cell_type": "markdown",
   "metadata": {},
   "source": [
    "There is lot's to be done with the name column since it contains lots of information. We can find spouses using this column, and we can find the title of the person, and the nickname. \n",
    "In what follows I've extracted the title, nickname, name inside parenthesis, and clean_name (which is the name after removing all the above)."
   ]
  },
  {
   "cell_type": "code",
   "execution_count": 10,
   "metadata": {},
   "outputs": [],
   "source": [
    "def get_title(name):\n",
    "    import re\n",
    "    match = re.search('\\w{2,}\\.\\s', name)\n",
    "    if match is None:\n",
    "        return None\n",
    "    else:\n",
    "        return match.group()"
   ]
  },
  {
   "cell_type": "code",
   "execution_count": 11,
   "metadata": {},
   "outputs": [],
   "source": [
    "def get_nickname(name):\n",
    "    import re\n",
    "    match = re.search('\"[\\w\\s]{2,}\"', name)\n",
    "    if match is None:\n",
    "        return None\n",
    "    else:\n",
    "        return match.group()"
   ]
  },
  {
   "cell_type": "code",
   "execution_count": 12,
   "metadata": {},
   "outputs": [],
   "source": [
    "def get_pname(name):\n",
    "    import re\n",
    "    match = re.search('\\([\\w\\s]{2,}\\)', name)\n",
    "    if match is None:\n",
    "        return None\n",
    "    else:\n",
    "        return match.group()"
   ]
  },
  {
   "cell_type": "code",
   "execution_count": 13,
   "metadata": {},
   "outputs": [],
   "source": [
    "data_p['Title'] = data['Name'].apply(get_title)\n",
    "data_p['Nickname'] = data['Name'].apply(get_nickname)\n",
    "data_p['Pname'] =  data['Name'].apply(get_pname)\n",
    "data_p['CleanName'] = data_p.fillna('&&&').apply(lambda x: x['Name']\n",
    "                                  .replace(x['Nickname'], ' ')\n",
    "                                  .replace(x['Title'], ' ')\n",
    "                                  .replace(x['Pname'], ' ')\n",
    "                                  .replace('  ', ' ').replace('  ', ' ').replace('( )','').strip(', ')\n",
    "                                  , axis=1)\n",
    "data_p['CleanNameShort'] = data_p['CleanName'].apply(lambda x: ' '.join(x.split()[:2]))\n",
    "\n",
    "data_p['Title'] = data_p['Title'].str.strip(' .')"
   ]
  },
  {
   "cell_type": "markdown",
   "metadata": {},
   "source": [
    "Find if a person is unmarried by their title"
   ]
  },
  {
   "cell_type": "code",
   "execution_count": 14,
   "metadata": {},
   "outputs": [],
   "source": [
    "UNMARRIED_TITLES = ['Mlle', 'Master', 'Miss']\n",
    "data_p['Title_Unmarried'] = data_p['Title'].apply(lambda x: x in UNMARRIED_TITLES)"
   ]
  },
  {
   "cell_type": "markdown",
   "metadata": {},
   "source": [
    "Group rare titles into one \"Rare\" title"
   ]
  },
  {
   "cell_type": "code",
   "execution_count": 15,
   "metadata": {},
   "outputs": [
    {
     "data": {
      "image/png": "[encoded data removed]",
      "text/plain": [
       "<Figure size 720x360 with 1 Axes>"
      ]
     },
     "metadata": {
      "needs_background": "light"
     },
     "output_type": "display_data"
    }
   ],
   "source": [
    "data_p['Title_small'] = data_p['Title'].replace(['Lady', 'Countess','Capt', 'Col',\n",
    "                                                 'Don', 'Dr', 'Major', 'Rev', 'Sir', \n",
    "                                                 'Jonkheer', 'Dona'], 'Rare')\n",
    "data_p['Title_small'] = data_p['Title_small'].replace('Mlle', 'Miss')\n",
    "data_p['Title_small'] = data_p['Title_small'].replace('Ms', 'Miss')\n",
    "data_p['Title_small'] = data_p['Title_small'].replace('Mme', 'Mrs')\n",
    "sns.countplot(data_p['Title_small']);"
   ]
  },
  {
   "cell_type": "markdown",
   "metadata": {},
   "source": [
    "### SibSp Column:\n",
    "#### Extract <ins>spouse onboard </ins> and <ins>siblings onboard </ins> "
   ]
  },
  {
   "cell_type": "markdown",
   "metadata": {},
   "source": [
    "The SibSp column specifies the number of spouses/siblings onboard for each person. By using the name we can separate the two and get two columns - one for spouse onboard and one for siblings onboard. \n",
    "We find spouses by having the same clean name as well as both unmarried, as well as of opposite sex."
   ]
  },
  {
   "cell_type": "code",
   "execution_count": 16,
   "metadata": {},
   "outputs": [],
   "source": [
    "data_p['Sp_onboard'] = ((data_p.groupby(['CleanNameShort','Title_Unmarried'])['CleanNameShort'].transform('count')==2) \\\n",
    "                        &(data_p.groupby(['CleanNameShort','Title_Unmarried'])['Sex'].transform('nunique')>1)).astype(int)\n",
    "data_p['Sib_onboard'] = data_p['SibSp'] - data_p['Sp_onboard']\n",
    "data_p.loc[data_p['Sib_onboard']<0,'Sib_onboard'] = 0"
   ]
  },
  {
   "cell_type": "markdown",
   "metadata": {},
   "source": [
    "### Parch Column:\n",
    "#### Extract <ins>children onboard </ins> and  <ins>parent onboard</ins>"
   ]
  },
  {
   "cell_type": "markdown",
   "metadata": {},
   "source": [
    "- First group each party by the ticket. \n",
    "- For each passenger count the number of passengers that could've been his/her child (more than 13 years younger than said passenger).\n",
    "- The number of children onboard of a passenger is the minimum between the Parch column and the number of possible children. \n",
    "- The number of parents onboard of a passenger is then Parch (parents + children onboard) minus the number of children ob board."
   ]
  },
  {
   "cell_type": "code",
   "execution_count": 17,
   "metadata": {},
   "outputs": [],
   "source": [
    "MINIMAL_YEARS_FOR_PARENT = 13\n",
    "def group_pa_pos(x):\n",
    "    x_copy = x.copy()\n",
    "    result = x.copy()\n",
    "    for i, y in enumerate(x_copy):\n",
    "        if pd.isna(y):\n",
    "            result.iloc[i] = len(x_copy) - 1\n",
    "        else:\n",
    "            result.iloc[i] = (x_copy.fillna(80) > (y+MINIMAL_YEARS_FOR_PARENT)).sum()\n",
    "    return result\n",
    "\n",
    "def group_ch_pos(x):\n",
    "    x_copy = x.copy()\n",
    "    result = x.copy()\n",
    "    for i, y in enumerate(x_copy):\n",
    "        if pd.isna(y):\n",
    "            result.iloc[i] = len(x_copy)-1\n",
    "        else:\n",
    "            result.iloc[i] = (x_copy.fillna(1) < (y-MINIMAL_YEARS_FOR_PARENT)).sum()\n",
    "    return result\n",
    "\n",
    "data_p['_ch_pos'] = data_p.groupby(['Ticket'])['Age'].transform(group_ch_pos)\n",
    "data_p['Ch_onboard'] = data_p.apply(lambda x: min(x[['_ch_pos', 'Parch']]), axis=1)\n",
    "data_p['Pa_onboard'] = data_p['Parch'] - data_p['Ch_onboard']\n",
    "data_p['group_size'] = data_p.groupby(['Ticket'])['Ticket'].transform('count')\n",
    "data_p['family_size'] = data_p['SibSp'] + data_p['Parch'] + 1\n",
    "data_p['is_alone'] = (data_p['family_size'] == 1).astype(int)"
   ]
  },
  {
   "cell_type": "markdown",
   "metadata": {},
   "source": [
    "Take the Fortune family for example:"
   ]
  },
  {
   "cell_type": "code",
   "execution_count": 18,
   "metadata": {},
   "outputs": [
    {
     "data": {
      "text/html": [
       "<div>\n",
       "<style scoped>\n",
       "    .dataframe tbody tr th:only-of-type {\n",
       "        vertical-align: middle;\n",
       "    }\n",
       "\n",
       "    .dataframe tbody tr th {\n",
       "        vertical-align: top;\n",
       "    }\n",
       "\n",
       "    .dataframe thead th {\n",
       "        text-align: right;\n",
       "    }\n",
       "</style>\n",
       "<table border=\"1\" class=\"dataframe\">\n",
       "  <thead>\n",
       "    <tr style=\"text-align: right;\">\n",
       "      <th></th>\n",
       "      <th>Title</th>\n",
       "      <th>Name</th>\n",
       "      <th>Age</th>\n",
       "      <th>Sex</th>\n",
       "      <th>Parch</th>\n",
       "      <th>_ch_pos</th>\n",
       "      <th>Pa_onboard</th>\n",
       "      <th>Ch_onboard</th>\n",
       "      <th>Sp_onboard</th>\n",
       "      <th>family_size</th>\n",
       "    </tr>\n",
       "  </thead>\n",
       "  <tbody>\n",
       "    <tr>\n",
       "      <th>438</th>\n",
       "      <td>Mr</td>\n",
       "      <td>Fortune, Mr. Mark</td>\n",
       "      <td>64.0</td>\n",
       "      <td>male</td>\n",
       "      <td>4</td>\n",
       "      <td>4.0</td>\n",
       "      <td>0.0</td>\n",
       "      <td>4.0</td>\n",
       "      <td>1</td>\n",
       "      <td>6</td>\n",
       "    </tr>\n",
       "    <tr>\n",
       "      <th>960</th>\n",
       "      <td>Mrs</td>\n",
       "      <td>Fortune, Mrs. Mark (Mary McDougald)</td>\n",
       "      <td>60.0</td>\n",
       "      <td>female</td>\n",
       "      <td>4</td>\n",
       "      <td>4.0</td>\n",
       "      <td>0.0</td>\n",
       "      <td>4.0</td>\n",
       "      <td>1</td>\n",
       "      <td>6</td>\n",
       "    </tr>\n",
       "    <tr>\n",
       "      <th>944</th>\n",
       "      <td>Miss</td>\n",
       "      <td>Fortune, Miss. Ethel Flora</td>\n",
       "      <td>28.0</td>\n",
       "      <td>female</td>\n",
       "      <td>2</td>\n",
       "      <td>0.0</td>\n",
       "      <td>2.0</td>\n",
       "      <td>0.0</td>\n",
       "      <td>0</td>\n",
       "      <td>6</td>\n",
       "    </tr>\n",
       "    <tr>\n",
       "      <th>341</th>\n",
       "      <td>Miss</td>\n",
       "      <td>Fortune, Miss. Alice Elizabeth</td>\n",
       "      <td>24.0</td>\n",
       "      <td>female</td>\n",
       "      <td>2</td>\n",
       "      <td>0.0</td>\n",
       "      <td>2.0</td>\n",
       "      <td>0.0</td>\n",
       "      <td>0</td>\n",
       "      <td>6</td>\n",
       "    </tr>\n",
       "    <tr>\n",
       "      <th>88</th>\n",
       "      <td>Miss</td>\n",
       "      <td>Fortune, Miss. Mabel Helen</td>\n",
       "      <td>23.0</td>\n",
       "      <td>female</td>\n",
       "      <td>2</td>\n",
       "      <td>0.0</td>\n",
       "      <td>2.0</td>\n",
       "      <td>0.0</td>\n",
       "      <td>0</td>\n",
       "      <td>6</td>\n",
       "    </tr>\n",
       "    <tr>\n",
       "      <th>27</th>\n",
       "      <td>Mr</td>\n",
       "      <td>Fortune, Mr. Charles Alexander</td>\n",
       "      <td>19.0</td>\n",
       "      <td>male</td>\n",
       "      <td>2</td>\n",
       "      <td>0.0</td>\n",
       "      <td>2.0</td>\n",
       "      <td>0.0</td>\n",
       "      <td>0</td>\n",
       "      <td>6</td>\n",
       "    </tr>\n",
       "  </tbody>\n",
       "</table>\n",
       "</div>"
      ],
      "text/plain": [
       "    Title                                 Name   Age     Sex  Parch  _ch_pos  \\\n",
       "438    Mr                    Fortune, Mr. Mark  64.0    male      4      4.0   \n",
       "960   Mrs  Fortune, Mrs. Mark (Mary McDougald)  60.0  female      4      4.0   \n",
       "944  Miss           Fortune, Miss. Ethel Flora  28.0  female      2      0.0   \n",
       "341  Miss       Fortune, Miss. Alice Elizabeth  24.0  female      2      0.0   \n",
       "88   Miss           Fortune, Miss. Mabel Helen  23.0  female      2      0.0   \n",
       "27     Mr       Fortune, Mr. Charles Alexander  19.0    male      2      0.0   \n",
       "\n",
       "     Pa_onboard  Ch_onboard  Sp_onboard  family_size  \n",
       "438         0.0         4.0           1            6  \n",
       "960         0.0         4.0           1            6  \n",
       "944         2.0         0.0           0            6  \n",
       "341         2.0         0.0           0            6  \n",
       "88          2.0         0.0           0            6  \n",
       "27          2.0         0.0           0            6  "
      ]
     },
     "execution_count": 18,
     "metadata": {},
     "output_type": "execute_result"
    }
   ],
   "source": [
    "data_p.loc[data_p['Ticket']=='19950', \n",
    "           ['Title', 'Name', 'Age', 'Sex', 'Parch', '_ch_pos', 'Pa_onboard', 'Ch_onboard', 'Sp_onboard', 'family_size']\n",
    "          ].sort_values('Age', ascending=False)"
   ]
  },
  {
   "cell_type": "markdown",
   "metadata": {},
   "source": [
    "### Survived Column:\n",
    "#### Extract <ins>group survival rate"
   ]
  },
  {
   "cell_type": "markdown",
   "metadata": {},
   "source": [
    "This is the first feature that is problematic with leakage. \n",
    "The feature is: for each person, look at the other people that came in the group with him (have the same ticket), and compute their average survival rate (not including the data of the person in question). \n",
    "It's fine as far as leakage since this is Kaggle, and I actually don't have the labels of the test set. In a real-world situation it might be unrealistic to use this feature. "
   ]
  },
  {
   "cell_type": "code",
   "execution_count": 19,
   "metadata": {},
   "outputs": [],
   "source": [
    "OVERALL_SURVIVAL_RATE = data['Survived'].mean()\n",
    "def group_survival_rate(x, na_value=OVERALL_SURVIVAL_RATE):\n",
    "    x_copy = x.copy().fillna(na_value)\n",
    "    result = x_copy.copy()\n",
    "    people_in_group = result.count()\n",
    "    if people_in_group == 1:\n",
    "        return na_value\n",
    "    for i, y in enumerate(x_copy):\n",
    "        sum_survived_but_me = x_copy.sum() - y\n",
    "        result.iloc[i] = sum_survived_but_me / (people_in_group-1.0)\n",
    "    return result\n",
    "\n",
    "data_p['group_survival_rate'] = data_p.groupby(['Ticket'])['Survived'].transform(group_survival_rate)"
   ]
  },
  {
   "cell_type": "markdown",
   "metadata": {},
   "source": [
    "### Sex Column:\n",
    "Just transform to binary"
   ]
  },
  {
   "cell_type": "code",
   "execution_count": 20,
   "metadata": {},
   "outputs": [],
   "source": [
    "data_p['Sex_male'] = (data_p['Sex'] == 'male').astype(int)"
   ]
  },
  {
   "cell_type": "markdown",
   "metadata": {},
   "source": [
    "### Age Column:"
   ]
  },
  {
   "cell_type": "markdown",
   "metadata": {},
   "source": [
    "An important feature which is 20% empty. Should be filled out by some regression method."
   ]
  },
  {
   "cell_type": "code",
   "execution_count": 21,
   "metadata": {},
   "outputs": [
    {
     "name": "stdout",
     "output_type": "stream",
     "text": [
      "False    0.799083\n",
      "True     0.200917\n",
      "Name: Age, dtype: float64\n"
     ]
    },
    {
     "data": {
      "image/png": "[encoded data removed]",
      "text/plain": [
       "<Figure size 720x360 with 1 Axes>"
      ]
     },
     "metadata": {
      "needs_background": "light"
     },
     "output_type": "display_data"
    }
   ],
   "source": [
    "print(data_p['Age'].isna().value_counts(True))\n",
    "sns.distplot(data_p['Age']);"
   ]
  },
  {
   "cell_type": "markdown",
   "metadata": {},
   "source": [
    "### Column SibSp:"
   ]
  },
  {
   "cell_type": "code",
   "execution_count": 22,
   "metadata": {},
   "outputs": [
    {
     "data": {
      "image/png": "[encoded data removed]",
      "text/plain": [
       "<Figure size 720x360 with 1 Axes>"
      ]
     },
     "metadata": {
      "needs_background": "light"
     },
     "output_type": "display_data"
    }
   ],
   "source": [
    "sns.countplot(data_p['SibSp']);"
   ]
  },
  {
   "cell_type": "markdown",
   "metadata": {},
   "source": [
    "### Column Parch:"
   ]
  },
  {
   "cell_type": "code",
   "execution_count": 23,
   "metadata": {},
   "outputs": [
    {
     "data": {
      "image/png": "[encoded data removed]",
      "text/plain": [
       "<Figure size 720x360 with 1 Axes>"
      ]
     },
     "metadata": {
      "needs_background": "light"
     },
     "output_type": "display_data"
    }
   ],
   "source": [
    "sns.countplot(data_p['Parch']);"
   ]
  },
  {
   "cell_type": "markdown",
   "metadata": {},
   "source": [
    "### Column Ticket:\n",
    "#### Extract <ins>ticket format</ins>"
   ]
  },
  {
   "cell_type": "markdown",
   "metadata": {},
   "source": [
    "We find there are a few formats for the ticket column values. I didn't really dig deeper because the model didn't find the format to be a good feature but it could be interesting to find out how the ticket format is created."
   ]
  },
  {
   "cell_type": "code",
   "execution_count": 24,
   "metadata": {},
   "outputs": [],
   "source": [
    "# with help from pd_helpers.get_data_formata\n",
    "ticket_formats = [\n",
    " '([A-Z]\\\\.){2,3} \\\\d{4,5}',\n",
    " 'A[A-Z]?/\\\\d\\\\.? \\\\d{3,5}',\n",
    " 'A\\\\.[/ ][25]\\\\. \\\\d{4,5}',\n",
    " 'A\\\\.?[45]\\\\. \\\\d{4,5}',\n",
    " 'CA\\\\. 23\\\\d{2}',\n",
    " 'LINE',\n",
    " 'SC/AH Basle 541',\n",
    " 'SC/A\\\\.3 \\\\d{3,4}',\n",
    " 'SC/Paris 21\\\\d3',\n",
    " 'SO?TON/O[\\\\s\\\\.]?[2Q]\\\\. 3\\\\d{5,6}',\n",
    " 'S[A-Z]{1,4}/[A-Z]\\\\d \\\\d{5,7}',\n",
    " 'S\\\\.[CO]\\\\./[AP]\\\\.[4P]\\\\. \\\\d{1,5}',\n",
    " 'W\\\\./C\\\\. \\\\d{4,5}',\n",
    " '[A-Z]\\\\.[A-Z]\\\\./[A-Z]{2,5} \\\\d{3,5}',\n",
    " '[A-Za-z]{1,2} \\\\d{4,6}',\n",
    " '[A-Z]{1,5}/[A-Z]{1,5} \\\\d{3,7}',\n",
    " '\\\\d{3,7}']"
   ]
  },
  {
   "cell_type": "code",
   "execution_count": 25,
   "metadata": {},
   "outputs": [
    {
     "name": "stdout",
     "output_type": "stream",
     "text": [
      "0 unrecognized formats\n"
     ]
    },
    {
     "data": {
      "text/plain": [
       "\\d{3,7}                              957\n",
       "[A-Za-z]{1,2} \\d{4,6}                118\n",
       "([A-Z]\\.){2,3} \\d{4,5}                69\n",
       "SO?TON/O[\\s\\.]?[2Q]\\. 3\\d{5,6}        38\n",
       "A[A-Z]?/\\d\\.? \\d{3,5}                 33\n",
       "[A-Z]{1,5}/[A-Z]{1,5} \\d{3,7}         32\n",
       "W\\./C\\. \\d{4,5}                       14\n",
       "CA\\. 23\\d{2}                          12\n",
       "S\\.[CO]\\./[AP]\\.[4P]\\. \\d{1,5}         8\n",
       "[A-Z]\\.[A-Z]\\./[A-Z]{2,5} \\d{3,5}      5\n",
       "SC/Paris 21\\d3                         5\n",
       "A\\.[/ ][25]\\. \\d{4,5}                  4\n",
       "LINE                                   4\n",
       "S[A-Z]{1,4}/[A-Z]\\d \\d{5,7}            4\n",
       "A\\.?[45]\\. \\d{4,5}                     4\n",
       "SC/AH Basle 541                        1\n",
       "SC/A\\.3 \\d{3,4}                        1\n",
       "Name: Ticket_format, dtype: int64"
      ]
     },
     "execution_count": 25,
     "metadata": {},
     "output_type": "execute_result"
    }
   ],
   "source": [
    "def replace_with_format(value, formats):\n",
    "    if pd.isna(value):\n",
    "        return None\n",
    "    import re\n",
    "    for f in formats:\n",
    "        if re.match('^' + f + '$', value):\n",
    "            return f\n",
    "    return None\n",
    "\n",
    "data_p['Ticket'] = data_p['Ticket'].apply(str)\n",
    "data_p['Ticket_format'] = data_p['Ticket'].apply(lambda v: replace_with_format(v, ticket_formats))\n",
    "print(len(data_p[pd.isna(data_p['Ticket_format'])]['Ticket']),'unrecognized formats')\n",
    "data_p['Ticket_format'].value_counts()"
   ]
  },
  {
   "cell_type": "markdown",
   "metadata": {},
   "source": [
    "### Fare Column:\n",
    "\n",
    "There's just one missing value so it seems fair to fix it with an ad-hoc solution."
   ]
  },
  {
   "cell_type": "code",
   "execution_count": 26,
   "metadata": {},
   "outputs": [
    {
     "data": {
      "text/html": [
       "<div>\n",
       "<style scoped>\n",
       "    .dataframe tbody tr th:only-of-type {\n",
       "        vertical-align: middle;\n",
       "    }\n",
       "\n",
       "    .dataframe tbody tr th {\n",
       "        vertical-align: top;\n",
       "    }\n",
       "\n",
       "    .dataframe thead th {\n",
       "        text-align: right;\n",
       "    }\n",
       "</style>\n",
       "<table border=\"1\" class=\"dataframe\">\n",
       "  <thead>\n",
       "    <tr style=\"text-align: right;\">\n",
       "      <th></th>\n",
       "      <th>PassengerId</th>\n",
       "      <th>Survived</th>\n",
       "      <th>Pclass</th>\n",
       "      <th>Name</th>\n",
       "      <th>Sex</th>\n",
       "      <th>Age</th>\n",
       "      <th>SibSp</th>\n",
       "      <th>Parch</th>\n",
       "      <th>Ticket</th>\n",
       "      <th>Fare</th>\n",
       "      <th>Cabin</th>\n",
       "      <th>Embarked</th>\n",
       "      <th>Title</th>\n",
       "      <th>Nickname</th>\n",
       "      <th>Pname</th>\n",
       "      <th>CleanName</th>\n",
       "      <th>CleanNameShort</th>\n",
       "      <th>Title_Unmarried</th>\n",
       "      <th>Title_small</th>\n",
       "      <th>Sp_onboard</th>\n",
       "      <th>Sib_onboard</th>\n",
       "      <th>_ch_pos</th>\n",
       "      <th>Ch_onboard</th>\n",
       "      <th>Pa_onboard</th>\n",
       "      <th>group_size</th>\n",
       "      <th>family_size</th>\n",
       "      <th>is_alone</th>\n",
       "      <th>group_survival_rate</th>\n",
       "      <th>Sex_male</th>\n",
       "      <th>Ticket_format</th>\n",
       "    </tr>\n",
       "  </thead>\n",
       "  <tbody>\n",
       "    <tr>\n",
       "      <th>1043</th>\n",
       "      <td>1044</td>\n",
       "      <td>NaN</td>\n",
       "      <td>3</td>\n",
       "      <td>Storey, Mr. Thomas</td>\n",
       "      <td>male</td>\n",
       "      <td>60.5</td>\n",
       "      <td>0</td>\n",
       "      <td>0</td>\n",
       "      <td>3701</td>\n",
       "      <td>NaN</td>\n",
       "      <td>NaN</td>\n",
       "      <td>S</td>\n",
       "      <td>Mr</td>\n",
       "      <td>None</td>\n",
       "      <td>None</td>\n",
       "      <td>Storey, Thomas</td>\n",
       "      <td>Storey, Thomas</td>\n",
       "      <td>False</td>\n",
       "      <td>Mr</td>\n",
       "      <td>0</td>\n",
       "      <td>0</td>\n",
       "      <td>0.0</td>\n",
       "      <td>0.0</td>\n",
       "      <td>0.0</td>\n",
       "      <td>1</td>\n",
       "      <td>1</td>\n",
       "      <td>1</td>\n",
       "      <td>0.383838</td>\n",
       "      <td>1</td>\n",
       "      <td>\\d{3,7}</td>\n",
       "    </tr>\n",
       "  </tbody>\n",
       "</table>\n",
       "</div>"
      ],
      "text/plain": [
       "      PassengerId  Survived  Pclass                Name   Sex   Age  SibSp  \\\n",
       "1043         1044       NaN       3  Storey, Mr. Thomas  male  60.5      0   \n",
       "\n",
       "      Parch Ticket  Fare Cabin Embarked Title Nickname Pname       CleanName  \\\n",
       "1043      0   3701   NaN   NaN        S    Mr     None  None  Storey, Thomas   \n",
       "\n",
       "      CleanNameShort  Title_Unmarried Title_small  Sp_onboard  Sib_onboard  \\\n",
       "1043  Storey, Thomas            False          Mr           0            0   \n",
       "\n",
       "      _ch_pos  Ch_onboard  Pa_onboard  group_size  family_size  is_alone  \\\n",
       "1043      0.0         0.0         0.0           1            1         1   \n",
       "\n",
       "      group_survival_rate  Sex_male Ticket_format  \n",
       "1043             0.383838         1       \\d{3,7}  "
      ]
     },
     "metadata": {},
     "output_type": "display_data"
    }
   ],
   "source": [
    "display(data_p[pd.isna(data['Fare'])])\n",
    "passenger_1044_probable_fare = data_p[data_p['Pclass'] == data_p.loc[data_p['PassengerId']==1044, 'Pclass'].iloc[0]]['Fare'].dropna().median()\n",
    "data_p['Fare'] = data_p['Fare'].fillna(passenger_1044_probable_fare)"
   ]
  },
  {
   "cell_type": "markdown",
   "metadata": {},
   "source": [
    "From this graph there seems to be high correlation between Pclass and Fare. Seems that the lower the class the higher the Fare. "
   ]
  },
  {
   "cell_type": "code",
   "execution_count": 27,
   "metadata": {},
   "outputs": [
    {
     "data": {
      "image/png": "[encoded data removed]",
      "text/plain": [
       "<Figure size 720x360 with 1 Axes>"
      ]
     },
     "metadata": {
      "needs_background": "light"
     },
     "output_type": "display_data"
    }
   ],
   "source": [
    "sns.distplot(data['Fare'], label='All Pclass')\n",
    "for pclass in sorted(data['Pclass'].unique()):\n",
    "    sns.distplot(data[data['Pclass']==pclass]['Fare'], label=f'Pclass={pclass}')\n",
    "plt.legend();"
   ]
  },
  {
   "cell_type": "markdown",
   "metadata": {},
   "source": [
    "From the following graph there seems to be not much correlation between Embarked and Fare. "
   ]
  },
  {
   "cell_type": "code",
   "execution_count": 28,
   "metadata": {},
   "outputs": [
    {
     "data": {
      "image/png": "[encoded data removed]",
      "text/plain": [
       "<Figure size 720x360 with 1 Axes>"
      ]
     },
     "metadata": {
      "needs_background": "light"
     },
     "output_type": "display_data"
    }
   ],
   "source": [
    "# sns.distplot(data['Embarked'], label='All Pclass')\n",
    "for eclass in data['Embarked'].dropna().unique():\n",
    "    sns.distplot(data[data['Embarked']==eclass]['Fare'], label=f'Embarked={eclass}')\n",
    "plt.legend();"
   ]
  },
  {
   "cell_type": "code",
   "execution_count": 29,
   "metadata": {},
   "outputs": [
    {
     "data": {
      "image/png": "[encoded data removed]",
      "text/plain": [
       "<Figure size 720x360 with 1 Axes>"
      ]
     },
     "metadata": {
      "needs_background": "light"
     },
     "output_type": "display_data"
    }
   ],
   "source": [
    "sns.distplot(data_p['Fare']);"
   ]
  },
  {
   "cell_type": "markdown",
   "metadata": {},
   "source": [
    "### Cabin Column:"
   ]
  },
  {
   "cell_type": "markdown",
   "metadata": {},
   "source": [
    "We find just 5 cabin formats."
   ]
  },
  {
   "cell_type": "code",
   "execution_count": 30,
   "metadata": {},
   "outputs": [],
   "source": [
    "cabin_formats = [\n",
    " '([A-Z]\\\\d{2} ){1,3}[A-Z]\\\\d{2}',\n",
    " 'F [A-Z]\\\\d{2}',\n",
    " '[A-Z]',\n",
    " '[A-Z]\\\\d{1,3}']"
   ]
  },
  {
   "cell_type": "code",
   "execution_count": 31,
   "metadata": {},
   "outputs": [
    {
     "name": "stdout",
     "output_type": "stream",
     "text": [
      "0 unrecognized formats\n"
     ]
    },
    {
     "data": {
      "text/plain": [
       "[A-Z]\\d{1,3}                    0.840678\n",
       "([A-Z]\\d{2} ){1,3}[A-Z]\\d{2}    0.115254\n",
       "F [A-Z]\\d{2}                    0.023729\n",
       "[A-Z]                           0.020339\n",
       "Name: Cabin_format, dtype: float64"
      ]
     },
     "execution_count": 31,
     "metadata": {},
     "output_type": "execute_result"
    }
   ],
   "source": [
    "data_p['Cabin_format'] = data_p['Cabin'].apply(lambda v: replace_with_format(v,  pd.Series(cabin_formats)))\n",
    "\n",
    "print((data_p[pd.isna(data_p['Cabin_format'])]['Cabin']).count(),'unrecognized formats')\n",
    "data_p['Cabin_format'].value_counts(True)"
   ]
  },
  {
   "cell_type": "markdown",
   "metadata": {},
   "source": [
    "### Embarked Column:"
   ]
  },
  {
   "cell_type": "markdown",
   "metadata": {},
   "source": [
    "Again, there are only two missing values. I'll just fill them up with the most common value. "
   ]
  },
  {
   "cell_type": "code",
   "execution_count": 32,
   "metadata": {},
   "outputs": [
    {
     "data": {
      "image/png": "[encoded data removed]",
      "text/plain": [
       "<Figure size 720x360 with 1 Axes>"
      ]
     },
     "metadata": {
      "needs_background": "light"
     },
     "output_type": "display_data"
    }
   ],
   "source": [
    "sns.countplot(data_p['Embarked'])\n",
    "data_p['Embarked'] = data_p['Embarked'].fillna('S')\n",
    "dummy_columns.append('Embarked')"
   ]
  },
  {
   "cell_type": "markdown",
   "metadata": {},
   "source": [
    "# Organizing features as numerical"
   ]
  },
  {
   "cell_type": "code",
   "execution_count": 33,
   "metadata": {},
   "outputs": [],
   "source": [
    "dummy_columns += ['Cabin_format', 'Ticket_format', 'Title_small']\n",
    "data_features = pd.get_dummies(data_p, columns=list(set(dummy_columns)), drop_first=False)\n",
    "\n",
    "data_features.drop(columns=['Sex', 'SibSp', 'Parch', 'Ticket', 'Cabin', '_ch_pos', 'Name', \n",
    "                            'CleanName', 'CleanNameShort', 'Title'], inplace=True)\n",
    "\n",
    "data_features['has_Pname'] = pd.notna(data_features['Pname']).astype(int)\n",
    "data_features['has_Nickname'] = pd.notna(data_features['Nickname']).astype(int)\n",
    "data_features['Title_Unmarried'] = data_features['Title_Unmarried'].astype(int)\n",
    "data_features.drop(columns=['Pname', 'Nickname'], inplace=True)\n",
    "\n",
    "data_features.set_index('PassengerId', inplace=True)"
   ]
  },
  {
   "cell_type": "code",
   "execution_count": 34,
   "metadata": {},
   "outputs": [
    {
     "data": {
      "text/html": [
       "<div>\n",
       "<style scoped>\n",
       "    .dataframe tbody tr th:only-of-type {\n",
       "        vertical-align: middle;\n",
       "    }\n",
       "\n",
       "    .dataframe tbody tr th {\n",
       "        vertical-align: top;\n",
       "    }\n",
       "\n",
       "    .dataframe thead th {\n",
       "        text-align: right;\n",
       "    }\n",
       "</style>\n",
       "<table border=\"1\" class=\"dataframe\">\n",
       "  <thead>\n",
       "    <tr style=\"text-align: right;\">\n",
       "      <th></th>\n",
       "      <th>Survived</th>\n",
       "      <th>Age</th>\n",
       "      <th>Fare</th>\n",
       "      <th>Title_Unmarried</th>\n",
       "      <th>Sp_onboard</th>\n",
       "      <th>Sib_onboard</th>\n",
       "      <th>Ch_onboard</th>\n",
       "      <th>Pa_onboard</th>\n",
       "      <th>group_size</th>\n",
       "      <th>family_size</th>\n",
       "      <th>is_alone</th>\n",
       "      <th>group_survival_rate</th>\n",
       "      <th>Sex_male</th>\n",
       "      <th>Pclass_1</th>\n",
       "      <th>Pclass_2</th>\n",
       "      <th>Pclass_3</th>\n",
       "      <th>Cabin_format_([A-Z]\\d{2} ){1,3}[A-Z]\\d{2}</th>\n",
       "      <th>Cabin_format_F [A-Z]\\d{2}</th>\n",
       "      <th>Cabin_format_[A-Z]</th>\n",
       "      <th>Cabin_format_[A-Z]\\d{1,3}</th>\n",
       "      <th>Ticket_format_([A-Z]\\.){2,3} \\d{4,5}</th>\n",
       "      <th>Ticket_format_A[A-Z]?/\\d\\.? \\d{3,5}</th>\n",
       "      <th>Ticket_format_A\\.?[45]\\. \\d{4,5}</th>\n",
       "      <th>Ticket_format_A\\.[/ ][25]\\. \\d{4,5}</th>\n",
       "      <th>Ticket_format_CA\\. 23\\d{2}</th>\n",
       "      <th>Ticket_format_LINE</th>\n",
       "      <th>Ticket_format_SC/AH Basle 541</th>\n",
       "      <th>Ticket_format_SC/A\\.3 \\d{3,4}</th>\n",
       "      <th>Ticket_format_SC/Paris 21\\d3</th>\n",
       "      <th>Ticket_format_SO?TON/O[\\s\\.]?[2Q]\\. 3\\d{5,6}</th>\n",
       "      <th>Ticket_format_S[A-Z]{1,4}/[A-Z]\\d \\d{5,7}</th>\n",
       "      <th>Ticket_format_S\\.[CO]\\./[AP]\\.[4P]\\. \\d{1,5}</th>\n",
       "      <th>Ticket_format_W\\./C\\. \\d{4,5}</th>\n",
       "      <th>Ticket_format_[A-Z]\\.[A-Z]\\./[A-Z]{2,5} \\d{3,5}</th>\n",
       "      <th>Ticket_format_[A-Z]{1,5}/[A-Z]{1,5} \\d{3,7}</th>\n",
       "      <th>Ticket_format_[A-Za-z]{1,2} \\d{4,6}</th>\n",
       "      <th>Ticket_format_\\d{3,7}</th>\n",
       "      <th>Embarked_C</th>\n",
       "      <th>Embarked_Q</th>\n",
       "      <th>Embarked_S</th>\n",
       "      <th>Title_small_Master</th>\n",
       "      <th>Title_small_Miss</th>\n",
       "      <th>Title_small_Mr</th>\n",
       "      <th>Title_small_Mrs</th>\n",
       "      <th>Title_small_Rare</th>\n",
       "      <th>has_Pname</th>\n",
       "      <th>has_Nickname</th>\n",
       "    </tr>\n",
       "    <tr>\n",
       "      <th>PassengerId</th>\n",
       "      <th></th>\n",
       "      <th></th>\n",
       "      <th></th>\n",
       "      <th></th>\n",
       "      <th></th>\n",
       "      <th></th>\n",
       "      <th></th>\n",
       "      <th></th>\n",
       "      <th></th>\n",
       "      <th></th>\n",
       "      <th></th>\n",
       "      <th></th>\n",
       "      <th></th>\n",
       "      <th></th>\n",
       "      <th></th>\n",
       "      <th></th>\n",
       "      <th></th>\n",
       "      <th></th>\n",
       "      <th></th>\n",
       "      <th></th>\n",
       "      <th></th>\n",
       "      <th></th>\n",
       "      <th></th>\n",
       "      <th></th>\n",
       "      <th></th>\n",
       "      <th></th>\n",
       "      <th></th>\n",
       "      <th></th>\n",
       "      <th></th>\n",
       "      <th></th>\n",
       "      <th></th>\n",
       "      <th></th>\n",
       "      <th></th>\n",
       "      <th></th>\n",
       "      <th></th>\n",
       "      <th></th>\n",
       "      <th></th>\n",
       "      <th></th>\n",
       "      <th></th>\n",
       "      <th></th>\n",
       "      <th></th>\n",
       "      <th></th>\n",
       "      <th></th>\n",
       "      <th></th>\n",
       "      <th></th>\n",
       "      <th></th>\n",
       "      <th></th>\n",
       "    </tr>\n",
       "  </thead>\n",
       "  <tbody>\n",
       "    <tr>\n",
       "      <th>1</th>\n",
       "      <td>0.0</td>\n",
       "      <td>22.0</td>\n",
       "      <td>7.2500</td>\n",
       "      <td>0</td>\n",
       "      <td>0</td>\n",
       "      <td>1</td>\n",
       "      <td>0.0</td>\n",
       "      <td>0.0</td>\n",
       "      <td>1</td>\n",
       "      <td>2</td>\n",
       "      <td>0</td>\n",
       "      <td>0.383838</td>\n",
       "      <td>1</td>\n",
       "      <td>0</td>\n",
       "      <td>0</td>\n",
       "      <td>1</td>\n",
       "      <td>0</td>\n",
       "      <td>0</td>\n",
       "      <td>0</td>\n",
       "      <td>0</td>\n",
       "      <td>0</td>\n",
       "      <td>1</td>\n",
       "      <td>0</td>\n",
       "      <td>0</td>\n",
       "      <td>0</td>\n",
       "      <td>0</td>\n",
       "      <td>0</td>\n",
       "      <td>0</td>\n",
       "      <td>0</td>\n",
       "      <td>0</td>\n",
       "      <td>0</td>\n",
       "      <td>0</td>\n",
       "      <td>0</td>\n",
       "      <td>0</td>\n",
       "      <td>0</td>\n",
       "      <td>0</td>\n",
       "      <td>0</td>\n",
       "      <td>0</td>\n",
       "      <td>0</td>\n",
       "      <td>1</td>\n",
       "      <td>0</td>\n",
       "      <td>0</td>\n",
       "      <td>1</td>\n",
       "      <td>0</td>\n",
       "      <td>0</td>\n",
       "      <td>0</td>\n",
       "      <td>0</td>\n",
       "    </tr>\n",
       "    <tr>\n",
       "      <th>2</th>\n",
       "      <td>1.0</td>\n",
       "      <td>38.0</td>\n",
       "      <td>71.2833</td>\n",
       "      <td>0</td>\n",
       "      <td>1</td>\n",
       "      <td>0</td>\n",
       "      <td>0.0</td>\n",
       "      <td>0.0</td>\n",
       "      <td>2</td>\n",
       "      <td>2</td>\n",
       "      <td>0</td>\n",
       "      <td>0.383838</td>\n",
       "      <td>0</td>\n",
       "      <td>1</td>\n",
       "      <td>0</td>\n",
       "      <td>0</td>\n",
       "      <td>0</td>\n",
       "      <td>0</td>\n",
       "      <td>0</td>\n",
       "      <td>1</td>\n",
       "      <td>0</td>\n",
       "      <td>0</td>\n",
       "      <td>0</td>\n",
       "      <td>0</td>\n",
       "      <td>0</td>\n",
       "      <td>0</td>\n",
       "      <td>0</td>\n",
       "      <td>0</td>\n",
       "      <td>0</td>\n",
       "      <td>0</td>\n",
       "      <td>0</td>\n",
       "      <td>0</td>\n",
       "      <td>0</td>\n",
       "      <td>0</td>\n",
       "      <td>0</td>\n",
       "      <td>1</td>\n",
       "      <td>0</td>\n",
       "      <td>1</td>\n",
       "      <td>0</td>\n",
       "      <td>0</td>\n",
       "      <td>0</td>\n",
       "      <td>0</td>\n",
       "      <td>0</td>\n",
       "      <td>1</td>\n",
       "      <td>0</td>\n",
       "      <td>1</td>\n",
       "      <td>0</td>\n",
       "    </tr>\n",
       "    <tr>\n",
       "      <th>3</th>\n",
       "      <td>1.0</td>\n",
       "      <td>26.0</td>\n",
       "      <td>7.9250</td>\n",
       "      <td>1</td>\n",
       "      <td>0</td>\n",
       "      <td>0</td>\n",
       "      <td>0.0</td>\n",
       "      <td>0.0</td>\n",
       "      <td>1</td>\n",
       "      <td>1</td>\n",
       "      <td>1</td>\n",
       "      <td>0.383838</td>\n",
       "      <td>0</td>\n",
       "      <td>0</td>\n",
       "      <td>0</td>\n",
       "      <td>1</td>\n",
       "      <td>0</td>\n",
       "      <td>0</td>\n",
       "      <td>0</td>\n",
       "      <td>0</td>\n",
       "      <td>0</td>\n",
       "      <td>0</td>\n",
       "      <td>0</td>\n",
       "      <td>0</td>\n",
       "      <td>0</td>\n",
       "      <td>0</td>\n",
       "      <td>0</td>\n",
       "      <td>0</td>\n",
       "      <td>0</td>\n",
       "      <td>1</td>\n",
       "      <td>0</td>\n",
       "      <td>0</td>\n",
       "      <td>0</td>\n",
       "      <td>0</td>\n",
       "      <td>0</td>\n",
       "      <td>0</td>\n",
       "      <td>0</td>\n",
       "      <td>0</td>\n",
       "      <td>0</td>\n",
       "      <td>1</td>\n",
       "      <td>0</td>\n",
       "      <td>1</td>\n",
       "      <td>0</td>\n",
       "      <td>0</td>\n",
       "      <td>0</td>\n",
       "      <td>0</td>\n",
       "      <td>0</td>\n",
       "    </tr>\n",
       "    <tr>\n",
       "      <th>4</th>\n",
       "      <td>1.0</td>\n",
       "      <td>35.0</td>\n",
       "      <td>53.1000</td>\n",
       "      <td>0</td>\n",
       "      <td>1</td>\n",
       "      <td>0</td>\n",
       "      <td>0.0</td>\n",
       "      <td>0.0</td>\n",
       "      <td>2</td>\n",
       "      <td>2</td>\n",
       "      <td>0</td>\n",
       "      <td>0.000000</td>\n",
       "      <td>0</td>\n",
       "      <td>1</td>\n",
       "      <td>0</td>\n",
       "      <td>0</td>\n",
       "      <td>0</td>\n",
       "      <td>0</td>\n",
       "      <td>0</td>\n",
       "      <td>1</td>\n",
       "      <td>0</td>\n",
       "      <td>0</td>\n",
       "      <td>0</td>\n",
       "      <td>0</td>\n",
       "      <td>0</td>\n",
       "      <td>0</td>\n",
       "      <td>0</td>\n",
       "      <td>0</td>\n",
       "      <td>0</td>\n",
       "      <td>0</td>\n",
       "      <td>0</td>\n",
       "      <td>0</td>\n",
       "      <td>0</td>\n",
       "      <td>0</td>\n",
       "      <td>0</td>\n",
       "      <td>0</td>\n",
       "      <td>1</td>\n",
       "      <td>0</td>\n",
       "      <td>0</td>\n",
       "      <td>1</td>\n",
       "      <td>0</td>\n",
       "      <td>0</td>\n",
       "      <td>0</td>\n",
       "      <td>1</td>\n",
       "      <td>0</td>\n",
       "      <td>1</td>\n",
       "      <td>0</td>\n",
       "    </tr>\n",
       "    <tr>\n",
       "      <th>5</th>\n",
       "      <td>0.0</td>\n",
       "      <td>35.0</td>\n",
       "      <td>8.0500</td>\n",
       "      <td>0</td>\n",
       "      <td>0</td>\n",
       "      <td>0</td>\n",
       "      <td>0.0</td>\n",
       "      <td>0.0</td>\n",
       "      <td>1</td>\n",
       "      <td>1</td>\n",
       "      <td>1</td>\n",
       "      <td>0.383838</td>\n",
       "      <td>1</td>\n",
       "      <td>0</td>\n",
       "      <td>0</td>\n",
       "      <td>1</td>\n",
       "      <td>0</td>\n",
       "      <td>0</td>\n",
       "      <td>0</td>\n",
       "      <td>0</td>\n",
       "      <td>0</td>\n",
       "      <td>0</td>\n",
       "      <td>0</td>\n",
       "      <td>0</td>\n",
       "      <td>0</td>\n",
       "      <td>0</td>\n",
       "      <td>0</td>\n",
       "      <td>0</td>\n",
       "      <td>0</td>\n",
       "      <td>0</td>\n",
       "      <td>0</td>\n",
       "      <td>0</td>\n",
       "      <td>0</td>\n",
       "      <td>0</td>\n",
       "      <td>0</td>\n",
       "      <td>0</td>\n",
       "      <td>1</td>\n",
       "      <td>0</td>\n",
       "      <td>0</td>\n",
       "      <td>1</td>\n",
       "      <td>0</td>\n",
       "      <td>0</td>\n",
       "      <td>1</td>\n",
       "      <td>0</td>\n",
       "      <td>0</td>\n",
       "      <td>0</td>\n",
       "      <td>0</td>\n",
       "    </tr>\n",
       "  </tbody>\n",
       "</table>\n",
       "</div>"
      ],
      "text/plain": [
       "             Survived   Age     Fare  Title_Unmarried  Sp_onboard  \\\n",
       "PassengerId                                                         \n",
       "1                 0.0  22.0   7.2500                0           0   \n",
       "2                 1.0  38.0  71.2833                0           1   \n",
       "3                 1.0  26.0   7.9250                1           0   \n",
       "4                 1.0  35.0  53.1000                0           1   \n",
       "5                 0.0  35.0   8.0500                0           0   \n",
       "\n",
       "             Sib_onboard  Ch_onboard  Pa_onboard  group_size  family_size  \\\n",
       "PassengerId                                                                 \n",
       "1                      1         0.0         0.0           1            2   \n",
       "2                      0         0.0         0.0           2            2   \n",
       "3                      0         0.0         0.0           1            1   \n",
       "4                      0         0.0         0.0           2            2   \n",
       "5                      0         0.0         0.0           1            1   \n",
       "\n",
       "             is_alone  group_survival_rate  Sex_male  Pclass_1  Pclass_2  \\\n",
       "PassengerId                                                                \n",
       "1                   0             0.383838         1         0         0   \n",
       "2                   0             0.383838         0         1         0   \n",
       "3                   1             0.383838         0         0         0   \n",
       "4                   0             0.000000         0         1         0   \n",
       "5                   1             0.383838         1         0         0   \n",
       "\n",
       "             Pclass_3  Cabin_format_([A-Z]\\d{2} ){1,3}[A-Z]\\d{2}  \\\n",
       "PassengerId                                                        \n",
       "1                   1                                          0   \n",
       "2                   0                                          0   \n",
       "3                   1                                          0   \n",
       "4                   0                                          0   \n",
       "5                   1                                          0   \n",
       "\n",
       "             Cabin_format_F [A-Z]\\d{2}  Cabin_format_[A-Z]  \\\n",
       "PassengerId                                                  \n",
       "1                                    0                   0   \n",
       "2                                    0                   0   \n",
       "3                                    0                   0   \n",
       "4                                    0                   0   \n",
       "5                                    0                   0   \n",
       "\n",
       "             Cabin_format_[A-Z]\\d{1,3}  Ticket_format_([A-Z]\\.){2,3} \\d{4,5}  \\\n",
       "PassengerId                                                                    \n",
       "1                                    0                                     0   \n",
       "2                                    1                                     0   \n",
       "3                                    0                                     0   \n",
       "4                                    1                                     0   \n",
       "5                                    0                                     0   \n",
       "\n",
       "             Ticket_format_A[A-Z]?/\\d\\.? \\d{3,5}  \\\n",
       "PassengerId                                        \n",
       "1                                              1   \n",
       "2                                              0   \n",
       "3                                              0   \n",
       "4                                              0   \n",
       "5                                              0   \n",
       "\n",
       "             Ticket_format_A\\.?[45]\\. \\d{4,5}  \\\n",
       "PassengerId                                     \n",
       "1                                           0   \n",
       "2                                           0   \n",
       "3                                           0   \n",
       "4                                           0   \n",
       "5                                           0   \n",
       "\n",
       "             Ticket_format_A\\.[/ ][25]\\. \\d{4,5}  Ticket_format_CA\\. 23\\d{2}  \\\n",
       "PassengerId                                                                    \n",
       "1                                              0                           0   \n",
       "2                                              0                           0   \n",
       "3                                              0                           0   \n",
       "4                                              0                           0   \n",
       "5                                              0                           0   \n",
       "\n",
       "             Ticket_format_LINE  Ticket_format_SC/AH Basle 541  \\\n",
       "PassengerId                                                      \n",
       "1                             0                              0   \n",
       "2                             0                              0   \n",
       "3                             0                              0   \n",
       "4                             0                              0   \n",
       "5                             0                              0   \n",
       "\n",
       "             Ticket_format_SC/A\\.3 \\d{3,4}  Ticket_format_SC/Paris 21\\d3  \\\n",
       "PassengerId                                                                \n",
       "1                                        0                             0   \n",
       "2                                        0                             0   \n",
       "3                                        0                             0   \n",
       "4                                        0                             0   \n",
       "5                                        0                             0   \n",
       "\n",
       "             Ticket_format_SO?TON/O[\\s\\.]?[2Q]\\. 3\\d{5,6}  \\\n",
       "PassengerId                                                 \n",
       "1                                                       0   \n",
       "2                                                       0   \n",
       "3                                                       1   \n",
       "4                                                       0   \n",
       "5                                                       0   \n",
       "\n",
       "             Ticket_format_S[A-Z]{1,4}/[A-Z]\\d \\d{5,7}  \\\n",
       "PassengerId                                              \n",
       "1                                                    0   \n",
       "2                                                    0   \n",
       "3                                                    0   \n",
       "4                                                    0   \n",
       "5                                                    0   \n",
       "\n",
       "             Ticket_format_S\\.[CO]\\./[AP]\\.[4P]\\. \\d{1,5}  \\\n",
       "PassengerId                                                 \n",
       "1                                                       0   \n",
       "2                                                       0   \n",
       "3                                                       0   \n",
       "4                                                       0   \n",
       "5                                                       0   \n",
       "\n",
       "             Ticket_format_W\\./C\\. \\d{4,5}  \\\n",
       "PassengerId                                  \n",
       "1                                        0   \n",
       "2                                        0   \n",
       "3                                        0   \n",
       "4                                        0   \n",
       "5                                        0   \n",
       "\n",
       "             Ticket_format_[A-Z]\\.[A-Z]\\./[A-Z]{2,5} \\d{3,5}  \\\n",
       "PassengerId                                                    \n",
       "1                                                          0   \n",
       "2                                                          0   \n",
       "3                                                          0   \n",
       "4                                                          0   \n",
       "5                                                          0   \n",
       "\n",
       "             Ticket_format_[A-Z]{1,5}/[A-Z]{1,5} \\d{3,7}  \\\n",
       "PassengerId                                                \n",
       "1                                                      0   \n",
       "2                                                      0   \n",
       "3                                                      0   \n",
       "4                                                      0   \n",
       "5                                                      0   \n",
       "\n",
       "             Ticket_format_[A-Za-z]{1,2} \\d{4,6}  Ticket_format_\\d{3,7}  \\\n",
       "PassengerId                                                               \n",
       "1                                              0                      0   \n",
       "2                                              1                      0   \n",
       "3                                              0                      0   \n",
       "4                                              0                      1   \n",
       "5                                              0                      1   \n",
       "\n",
       "             Embarked_C  Embarked_Q  Embarked_S  Title_small_Master  \\\n",
       "PassengerId                                                           \n",
       "1                     0           0           1                   0   \n",
       "2                     1           0           0                   0   \n",
       "3                     0           0           1                   0   \n",
       "4                     0           0           1                   0   \n",
       "5                     0           0           1                   0   \n",
       "\n",
       "             Title_small_Miss  Title_small_Mr  Title_small_Mrs  \\\n",
       "PassengerId                                                      \n",
       "1                           0               1                0   \n",
       "2                           0               0                1   \n",
       "3                           1               0                0   \n",
       "4                           0               0                1   \n",
       "5                           0               1                0   \n",
       "\n",
       "             Title_small_Rare  has_Pname  has_Nickname  \n",
       "PassengerId                                             \n",
       "1                           0          0             0  \n",
       "2                           0          1             0  \n",
       "3                           0          0             0  \n",
       "4                           0          1             0  \n",
       "5                           0          0             0  "
      ]
     },
     "execution_count": 34,
     "metadata": {},
     "output_type": "execute_result"
    }
   ],
   "source": [
    "data_features.head()"
   ]
  },
  {
   "cell_type": "markdown",
   "metadata": {},
   "source": [
    "Next we remove all columns which are boolean with more than 99% of the same value"
   ]
  },
  {
   "cell_type": "code",
   "execution_count": 35,
   "metadata": {},
   "outputs": [
    {
     "name": "stdout",
     "output_type": "stream",
     "text": [
      "Dropping column: Cabin_format_F [A-Z]\\d{2}\n",
      "Dropping column: Cabin_format_[A-Z]\n",
      "Dropping column: Ticket_format_A\\.?[45]\\. \\d{4,5}\n",
      "Dropping column: Ticket_format_A\\.[/ ][25]\\. \\d{4,5}\n",
      "Dropping column: Ticket_format_CA\\. 23\\d{2}\n",
      "Dropping column: Ticket_format_LINE\n",
      "Dropping column: Ticket_format_SC/AH Basle 541\n",
      "Dropping column: Ticket_format_SC/A\\.3 \\d{3,4}\n",
      "Dropping column: Ticket_format_SC/Paris 21\\d3\n",
      "Dropping column: Ticket_format_S[A-Z]{1,4}/[A-Z]\\d \\d{5,7}\n",
      "Dropping column: Ticket_format_S\\.[CO]\\./[AP]\\.[4P]\\. \\d{1,5}\n",
      "Dropping column: Ticket_format_[A-Z]\\.[A-Z]\\./[A-Z]{2,5} \\d{3,5}\n"
     ]
    }
   ],
   "source": [
    "for col in data_features.columns:\n",
    "    if data_features[col].nunique() != 2:\n",
    "        continue\n",
    "    if data_features[col].value_counts(True)[0] > 0.99:\n",
    "        print(f'Dropping column: {col}')\n",
    "        data_features.drop(columns=col, inplace=True)"
   ]
  },
  {
   "cell_type": "markdown",
   "metadata": {},
   "source": [
    "### Fill in <ins>Age</ins> missing values with RandomForestRegressor"
   ]
  },
  {
   "cell_type": "code",
   "execution_count": 37,
   "metadata": {},
   "outputs": [],
   "source": [
    "all_cols_but_nans = [v for v in data_features.columns if v not in ('Age', 'group_survival_rate', 'Survived')]\n",
    "age_exists = pd.notna(data_features['Age'])\n",
    "rfModel_age = RandomForestRegressor()\n",
    "rfModel_age.fit(data_features[age_exists][all_cols_but_nans], data_features[age_exists]['Age'])\n",
    "\n",
    "generatedAgeValues = rfModel_age.predict(X = data_features[~age_exists][all_cols_but_nans])\n",
    "data_features.loc[~age_exists, 'Age'] = generatedAgeValues"
   ]
  },
  {
   "cell_type": "code",
   "execution_count": 38,
   "metadata": {},
   "outputs": [
    {
     "data": {
      "image/png": "[encoded data removed]",
      "text/plain": [
       "<Figure size 720x360 with 1 Axes>"
      ]
     },
     "metadata": {
      "needs_background": "light"
     },
     "output_type": "display_data"
    }
   ],
   "source": [
    "sns.distplot(data_features['Age']);"
   ]
  },
  {
   "cell_type": "markdown",
   "metadata": {},
   "source": [
    "# Save dataset for model"
   ]
  },
  {
   "cell_type": "code",
   "execution_count": 99,
   "metadata": {},
   "outputs": [],
   "source": [
    "# data_features.to_pickle('train_and_test_features.pkl')"
   ]
  },
  {
   "cell_type": "markdown",
   "metadata": {},
   "source": [
    "# Loading features, setting up train, test and CV"
   ]
  },
  {
   "cell_type": "code",
   "execution_count": 43,
   "metadata": {},
   "outputs": [],
   "source": [
    "data_features = pd.read_pickle('train_and_test_features.pkl')\n",
    "gender_submission = pd.read_csv('gender_submission.csv').set_index('PassengerId')\n",
    "\n",
    "# dropping columns which were found to have low feature importance (see bellow)\n",
    "cols_to_drop = ['Ticket_format_([A-Z]\\\\.){2,3} \\\\d{4,5}',\n",
    " 'Ticket_format_A[A-Z]?/\\\\d\\\\.? \\\\d{3,5}',\n",
    " 'Ticket_format_SO?TON/O[\\\\s\\\\.]?[2Q]\\\\. 3\\\\d{5,6}',\n",
    " 'Ticket_format_W\\\\./C\\\\. \\\\d{4,5}',\n",
    " 'Ticket_format_[A-Z]{1,5}/[A-Z]{1,5} \\\\d{3,7}',\n",
    " 'Ticket_format_[A-Za-z]{1,2} \\\\d{4,6}','Embarked_Q', \n",
    " 'Cabin_format_([A-Z]\\\\d{2} ){1,3}[A-Z]\\\\d{2}', 'Pa_onboard', 'Sp_onboard', 'Title_small_Rare', \n",
    " 'Ch_onboard',  'Ticket_format_\\\\d{3,7}', 'Embarked_S']\n",
    "data_features.drop(columns = (cols_to_drop), inplace=True)\n",
    "data_features['Pclass'] = data_features['Pclass_3'] * 3 + data_features['Pclass_2'] * 2 + data_features['Pclass_1']\n",
    "data_features.drop(columns = ['Pclass_1', 'Pclass_2', 'Pclass_3'], inplace=True)\n",
    "data_features['age*pclass'] = data_features['Age'] * data_features['Pclass']\n",
    "\n",
    "CLASS_LABEL = 'Survived'\n",
    "RSEED = np.random.randint(100)\n",
    "\n",
    "data_features['Age'] = data_features['Age'].fillna(data_features['Age'].mean())\n",
    "data_features.drop(columns=['group_survival_rate'])\n",
    "test_set = data_features[pd.isna(data_features[CLASS_LABEL])].copy()\n",
    "train_set = data_features[pd.notna(data_features[CLASS_LABEL])].copy()\n",
    "\n",
    "train_set[CLASS_LABEL] = train_set[CLASS_LABEL].astype(int)\n",
    "labels = np.array(train_set.pop(CLASS_LABEL))\n",
    "test_set.drop(columns=CLASS_LABEL, inplace=True)"
   ]
  },
  {
   "cell_type": "code",
   "execution_count": 44,
   "metadata": {},
   "outputs": [],
   "source": [
    "# 20% examples in test data\n",
    "train, cv, train_labels, cv_labels = train_test_split(train_set,\n",
    "                                         labels, \n",
    "                                         stratify = labels,\n",
    "                                         test_size = 0.2, \n",
    "                                         random_state = RSEED)"
   ]
  },
  {
   "cell_type": "markdown",
   "metadata": {},
   "source": [
    "# Modeling - On CV"
   ]
  },
  {
   "cell_type": "code",
   "execution_count": 45,
   "metadata": {},
   "outputs": [],
   "source": [
    "features = list(train.columns)"
   ]
  },
  {
   "cell_type": "code",
   "execution_count": 46,
   "metadata": {},
   "outputs": [
    {
     "data": {
      "text/plain": [
       "RandomForestClassifier(bootstrap=True, ccp_alpha=0.0, class_weight=None,\n",
       "                       criterion='gini', max_depth=10, max_features='sqrt',\n",
       "                       max_leaf_nodes=None, max_samples=None,\n",
       "                       min_impurity_decrease=0.0, min_impurity_split=None,\n",
       "                       min_samples_leaf=1, min_samples_split=2,\n",
       "                       min_weight_fraction_leaf=0.0, n_estimators=50,\n",
       "                       n_jobs=None, oob_score=False, random_state=66, verbose=0,\n",
       "                       warm_start=False)"
      ]
     },
     "execution_count": 46,
     "metadata": {},
     "output_type": "execute_result"
    }
   ],
   "source": [
    "model = RandomForestClassifier(n_estimators=50, \n",
    "                               random_state=RSEED, \n",
    "                               max_features = 'sqrt', max_depth=10, bootstrap=True)\n",
    "# Fit on training data\n",
    "model.fit(train, train_labels)"
   ]
  },
  {
   "cell_type": "code",
   "execution_count": 47,
   "metadata": {},
   "outputs": [],
   "source": [
    "# Training predictions (to demonstrate overfitting)\n",
    "train_rf_predictions = model.predict(train)\n",
    "train_rf_probs = model.predict_proba(train)[:, 1]\n",
    "\n",
    "# Testing predictions (to determine performance)\n",
    "rf_predictions = model.predict(cv)\n",
    "rf_probs = model.predict_proba(cv)[:, 1]"
   ]
  },
  {
   "cell_type": "code",
   "execution_count": 48,
   "metadata": {},
   "outputs": [
    {
     "name": "stdout",
     "output_type": "stream",
     "text": [
      "AUC : 0.911\n",
      "[[103   7]\n",
      " [ 17  52]]\n"
     ]
    },
    {
     "data": {
      "image/png": "[encoded data removed]",
      "text/plain": [
       "<Figure size 720x720 with 1 Axes>"
      ]
     },
     "metadata": {
      "needs_background": "light"
     },
     "output_type": "display_data"
    }
   ],
   "source": [
    "def plot_model_roc(predictions, probs, train_predictions, train_probs, test_labels):  \n",
    "    \n",
    "    model_fpr, model_tpr, _ = roc_curve(test_labels, probs)\n",
    "    model_auc = np.round(roc_auc_score(test_labels, probs), 3)\n",
    "    \n",
    "    # Plot\n",
    "    plt.figure(figsize = (10, 10))\n",
    "    plt.plot([0, 1], [0, 1], 'b', label = 'baseline')\n",
    "    plt.plot(model_fpr, model_tpr, 'r', label = 'model (AUC = {})'.format(model_auc))\n",
    "    plt.legend();\n",
    "    plt.xlabel('False Positive Rate'); \n",
    "    plt.ylabel('True Positive Rate'); plt.title('ROC Curves');\n",
    "    print(f'AUC : {model_auc}')\n",
    "    print(confusion_matrix(test_labels, rf_predictions))\n",
    "    plt.show();\n",
    "\n",
    "plot_model_roc(rf_predictions, rf_probs, train_rf_predictions, train_rf_probs, cv_labels)"
   ]
  },
  {
   "cell_type": "markdown",
   "metadata": {},
   "source": [
    "Comparing our score with the gender submission"
   ]
  },
  {
   "cell_type": "code",
   "execution_count": 49,
   "metadata": {},
   "outputs": [
    {
     "name": "stdout",
     "output_type": "stream",
     "text": [
      "Random Forest CV accuracy : 0.8659217877094972\n",
      "Gender CV accuracy : 0.7988826815642458\n"
     ]
    }
   ],
   "source": [
    "print(f'Random Forest CV accuracy : {accuracy_score(cv_labels, rf_predictions)}')\n",
    "print(f'Gender CV accuracy : {accuracy_score(cv_labels, 1-cv.Sex_male)}')"
   ]
  },
  {
   "cell_type": "markdown",
   "metadata": {},
   "source": [
    "# Looking at Feature Importance & Permutation Importance"
   ]
  },
  {
   "cell_type": "code",
   "execution_count": 54,
   "metadata": {},
   "outputs": [
    {
     "data": {
      "image/png": "[encoded data removed]",
      "text/plain": [
       "<Figure size 720x720 with 1 Axes>"
      ]
     },
     "metadata": {
      "needs_background": "light"
     },
     "output_type": "display_data"
    }
   ],
   "source": [
    "feature_names = np.r_[train_set.columns]\n",
    "tree_feature_importances = model.feature_importances_\n",
    "sorted_idx_rf = tree_feature_importances.argsort()\n",
    "\n",
    "y_ticks = np.arange(0, len(features))\n",
    "fig, ax = plt.subplots(figsize = (10, 10))\n",
    "# ax.figure(figsize = (16, 6))\n",
    "ax.barh(y_ticks, tree_feature_importances[sorted_idx_rf])\n",
    "ax.set_yticklabels(feature_names[sorted_idx_rf])\n",
    "ax.set_yticks(y_ticks)\n",
    "ax.set_title(\"Random Forest Feature Importances (MDI)\")\n",
    "fig.tight_layout()\n",
    "plt.show()"
   ]
  },
  {
   "cell_type": "markdown",
   "metadata": {},
   "source": [
    "Using permutation importance can be better when there are both numerical and categorical features in the dataset, as the impurity-based feature importance can inflate the importance of numerical features (See [Permutation Importance vs Random Forest Feature Importance (MDI)](https://scikit-learn.org/stable/auto_examples/inspection/plot_permutation_importance.html))"
   ]
  },
  {
   "cell_type": "code",
   "execution_count": 55,
   "metadata": {},
   "outputs": [],
   "source": [
    "permutation_imp_data = permutation_importance(model, cv, cv_labels, n_repeats=10,\n",
    "                                random_state=RSEED)\n",
    "sorted_idx_pid = permutation_imp_data.importances_mean.argsort()"
   ]
  },
  {
   "cell_type": "code",
   "execution_count": 56,
   "metadata": {},
   "outputs": [
    {
     "data": {
      "image/png": "[encoded data removed]",
      "text/plain": [
       "<Figure size 720x720 with 1 Axes>"
      ]
     },
     "metadata": {
      "needs_background": "light"
     },
     "output_type": "display_data"
    }
   ],
   "source": [
    "fig, ax = plt.subplots(figsize = (10, 10))\n",
    "ax.boxplot(permutation_imp_data.importances[sorted_idx_pid].T,\n",
    "           vert=False, labels=cv.columns[sorted_idx_pid])\n",
    "ax.set_title(\"Permutation Importances (test set)\")\n",
    "fig.tight_layout()\n",
    "plt.show()"
   ]
  },
  {
   "cell_type": "markdown",
   "metadata": {},
   "source": [
    "# Modeling - On Complete Train"
   ]
  },
  {
   "cell_type": "code",
   "execution_count": 57,
   "metadata": {},
   "outputs": [
    {
     "data": {
      "text/plain": [
       "RandomForestClassifier(bootstrap=True, ccp_alpha=0.0, class_weight=None,\n",
       "                       criterion='gini', max_depth=10, max_features='sqrt',\n",
       "                       max_leaf_nodes=None, max_samples=None,\n",
       "                       min_impurity_decrease=0.0, min_impurity_split=None,\n",
       "                       min_samples_leaf=1, min_samples_split=2,\n",
       "                       min_weight_fraction_leaf=0.0, n_estimators=50,\n",
       "                       n_jobs=None, oob_score=False, random_state=66, verbose=0,\n",
       "                       warm_start=False)"
      ]
     },
     "execution_count": 57,
     "metadata": {},
     "output_type": "execute_result"
    }
   ],
   "source": [
    "# Fit on training data\n",
    "model.fit(train_set, labels)"
   ]
  },
  {
   "cell_type": "code",
   "execution_count": 58,
   "metadata": {},
   "outputs": [],
   "source": [
    "# Training predictions (to determine overfitting)\n",
    "train_rf_predictions = model.predict(train_set)\n",
    "train_rf_probs = model.predict_proba(train_set)[:, 1]\n",
    "\n",
    "# Testing predictions (to determine performance)\n",
    "rf_predictions = model.predict(test_set)\n",
    "rf_probs = model.predict_proba(test_set)[:, 1]"
   ]
  },
  {
   "cell_type": "code",
   "execution_count": 59,
   "metadata": {},
   "outputs": [
    {
     "data": {
      "text/html": [
       "<div>\n",
       "<style scoped>\n",
       "    .dataframe tbody tr th:only-of-type {\n",
       "        vertical-align: middle;\n",
       "    }\n",
       "\n",
       "    .dataframe tbody tr th {\n",
       "        vertical-align: top;\n",
       "    }\n",
       "\n",
       "    .dataframe thead th {\n",
       "        text-align: right;\n",
       "    }\n",
       "</style>\n",
       "<table border=\"1\" class=\"dataframe\">\n",
       "  <thead>\n",
       "    <tr style=\"text-align: right;\">\n",
       "      <th></th>\n",
       "      <th>Survived</th>\n",
       "    </tr>\n",
       "    <tr>\n",
       "      <th>PassengerId</th>\n",
       "      <th></th>\n",
       "    </tr>\n",
       "  </thead>\n",
       "  <tbody>\n",
       "    <tr>\n",
       "      <th>892</th>\n",
       "      <td>0</td>\n",
       "    </tr>\n",
       "    <tr>\n",
       "      <th>893</th>\n",
       "      <td>0</td>\n",
       "    </tr>\n",
       "    <tr>\n",
       "      <th>894</th>\n",
       "      <td>0</td>\n",
       "    </tr>\n",
       "    <tr>\n",
       "      <th>895</th>\n",
       "      <td>0</td>\n",
       "    </tr>\n",
       "    <tr>\n",
       "      <th>896</th>\n",
       "      <td>1</td>\n",
       "    </tr>\n",
       "  </tbody>\n",
       "</table>\n",
       "</div>"
      ],
      "text/plain": [
       "             Survived\n",
       "PassengerId          \n",
       "892                 0\n",
       "893                 0\n",
       "894                 0\n",
       "895                 0\n",
       "896                 1"
      ]
     },
     "execution_count": 59,
     "metadata": {},
     "output_type": "execute_result"
    }
   ],
   "source": [
    "prediction_set = test_set.copy()\n",
    "prediction_set['Survived'] = rf_predictions\n",
    "prediction_set = prediction_set[['Survived']]\n",
    "prediction_set.head()"
   ]
  },
  {
   "cell_type": "markdown",
   "metadata": {},
   "source": [
    "Comparing our submission with the gender prediction as a sanity check. We don't expect too much variation."
   ]
  },
  {
   "cell_type": "code",
   "execution_count": 61,
   "metadata": {},
   "outputs": [
    {
     "data": {
      "text/plain": [
       "array([[244,  33],\n",
       "       [ 22, 119]])"
      ]
     },
     "execution_count": 61,
     "metadata": {},
     "output_type": "execute_result"
    }
   ],
   "source": [
    "confusion_matrix(prediction_set['Survived'], gender_submission['Survived'])"
   ]
  },
  {
   "cell_type": "markdown",
   "metadata": {},
   "source": [
    "# Submitting result"
   ]
  },
  {
   "cell_type": "code",
   "execution_count": 25,
   "metadata": {},
   "outputs": [],
   "source": [
    "# prediction_set.to_csv('submission_random_forest.csv')"
   ]
  },
  {
   "cell_type": "markdown",
   "metadata": {},
   "source": [
    "evaluating our score as a percentile. "
   ]
  },
  {
   "cell_type": "code",
   "execution_count": 86,
   "metadata": {},
   "outputs": [
    {
     "name": "stdout",
     "output_type": "stream",
     "text": [
      "The score to beat is: 0.79904\n",
      "You beat the score!\n",
      "Your percentile is: 96.67 %\n"
     ]
    },
    {
     "data": {
      "image/png": "[encoded data removed]",
      "text/plain": [
       "<Figure size 720x360 with 1 Axes>"
      ]
     },
     "metadata": {
      "needs_background": "light"
     },
     "output_type": "display_data"
    }
   ],
   "source": [
    "MY_BEST_SCORE = 0.81339\n",
    "submissions = pd.read_csv('titanic-publicleaderboard.csv')\n",
    "sub_max_scores = submissions.groupby('TeamId')['Score'].agg('max')\n",
    "sub_max_scores = sub_max_scores[(sub_max_scores>0.4) & (sub_max_scores<1)]\n",
    "\n",
    "score_to_beat = scoreatpercentile(sub_max_scores, 90)\n",
    "print('The score to beat is:', score_to_beat)\n",
    "print('You beat the score!' if score_to_beat < MY_BEST_SCORE else 'You didn''t beat the score...')\n",
    "print('Your percentile is:', np.round(percentileofscore(sub_max_scores, MY_BEST_SCORE),2),'%')\n",
    "ax = sns.distplot(sub_max_scores, label='Score distribution');\n",
    "ax.axvline(MY_BEST_SCORE, color='C1', label='My score')\n",
    "ax.axvline(score_to_beat, color='grey', linestyle='--', label='Top 10%')\n",
    "plt.legend()\n",
    "plt.show();"
   ]
  }
 ],
 "metadata": {
  "kernelspec": {
   "display_name": "Python 3",
   "language": "python",
   "name": "python3"
  },
  "language_info": {
   "codemirror_mode": {
    "name": "ipython",
    "version": 3
   },
   "file_extension": ".py",
   "mimetype": "text/x-python",
   "name": "python",
   "nbconvert_exporter": "python",
   "pygments_lexer": "ipython3",
   "version": "3.7.6"
  }
 },
 "nbformat": 4,
 "nbformat_minor": 4
}
